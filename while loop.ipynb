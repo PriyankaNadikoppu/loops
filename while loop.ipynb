{
 "cells": [
  {
   "cell_type": "code",
   "execution_count": null,
   "id": "a4c2b984-1006-44cd-8504-541cabaded76",
   "metadata": {},
   "outputs": [],
   "source": [
    "#print the sum of first n natural numbers n=10, output:55\n",
    "sum= 0\n",
    "i= 1\n",
    "n= int(input(\"enter the value of n:\"))\n",
    "while i<=n:\n",
    "    sum+=i\n",
    "    i+=1\n",
    "print(\"total:\", sum)"
   ]
  }
 ],
 "metadata": {
  "kernelspec": {
   "display_name": "Python 3 (ipykernel)",
   "language": "python",
   "name": "python3"
  },
  "language_info": {
   "codemirror_mode": {
    "name": "ipython",
    "version": 3
   },
   "file_extension": ".py",
   "mimetype": "text/x-python",
   "name": "python",
   "nbconvert_exporter": "python",
   "pygments_lexer": "ipython3",
   "version": "3.12.7"
  }
 },
 "nbformat": 4,
 "nbformat_minor": 5
}
