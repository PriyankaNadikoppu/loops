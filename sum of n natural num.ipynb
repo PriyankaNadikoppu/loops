{
 "cells": [
  {
   "cell_type": "code",
   "execution_count": null,
   "id": "2b6d9ea7-9f0a-4239-b1d8-b99e075eb4be",
   "metadata": {},
   "outputs": [],
   "source": [
    "#print the sum of first n natural numbers n=10, output:55\n",
    "sum= 0\n",
    "i= 1\n",
    "n= int(input(\"enter the value of n:\"))\n",
    "while i<=n:\n",
    "    sum+=i\n",
    "    i+=1\n",
    "print(\"total:\", sum)"
   ]
  }
 ],
 "metadata": {
  "kernelspec": {
   "display_name": "Python 3 (ipykernel)",
   "language": "python",
   "name": "python3"
  },
  "language_info": {
   "codemirror_mode": {
    "name": "ipython",
    "version": 3
   },
   "file_extension": ".py",
   "mimetype": "text/x-python",
   "name": "python",
   "nbconvert_exporter": "python",
   "pygments_lexer": "ipython3",
   "version": "3.12.7"
  }
 },
 "nbformat": 4,
 "nbformat_minor": 5
}
