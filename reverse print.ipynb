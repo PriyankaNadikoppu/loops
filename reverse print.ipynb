{
 "cells": [
  {
   "cell_type": "code",
   "execution_count": null,
   "id": "2b144b3c-6927-4d03-8bcc-e10668268991",
   "metadata": {},
   "outputs": [],
   "source": [
    "#write a program to print reverse of n natural numbers n=5\n",
    "#output:5 4 3 2 1\n",
    "n= int(input(\"enter the value of n:\"))\n",
    "i= n\n",
    "while i>=1:\n",
    "    print(i, end=' ')\n",
    "    i-=1"
   ]
  }
 ],
 "metadata": {
  "kernelspec": {
   "display_name": "Python 3 (ipykernel)",
   "language": "python",
   "name": "python3"
  },
  "language_info": {
   "codemirror_mode": {
    "name": "ipython",
    "version": 3
   },
   "file_extension": ".py",
   "mimetype": "text/x-python",
   "name": "python",
   "nbconvert_exporter": "python",
   "pygments_lexer": "ipython3",
   "version": "3.12.7"
  }
 },
 "nbformat": 4,
 "nbformat_minor": 5
}
